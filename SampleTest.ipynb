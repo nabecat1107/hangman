{
  "nbformat": 4,
  "nbformat_minor": 0,
  "metadata": {
    "colab": {
      "provenance": [],
      "authorship_tag": "ABX9TyN7e8cBwyfTHrUljgj05YIZ",
      "include_colab_link": true
    },
    "kernelspec": {
      "name": "python3",
      "display_name": "Python 3"
    },
    "language_info": {
      "name": "python"
    }
  },
  "cells": [
    {
      "cell_type": "markdown",
      "metadata": {
        "id": "view-in-github",
        "colab_type": "text"
      },
      "source": [
        "<a href=\"https://colab.research.google.com/github/nabecat1107/hangman/blob/master/SampleTest.ipynb\" target=\"_parent\"><img src=\"https://colab.research.google.com/assets/colab-badge.svg\" alt=\"Open In Colab\"/></a>"
      ]
    },
    {
      "cell_type": "markdown",
      "source": [
        "https://qiita.com/Radley/items/b56a651797147c2592e6\n",
        "の実行用シート"
      ],
      "metadata": {
        "id": "aXuHZnP_zJSq"
      }
    },
    {
      "cell_type": "code",
      "execution_count": 1,
      "metadata": {
        "colab": {
          "base_uri": "https://localhost:8080/"
        },
        "id": "w1eHW2XVybyu",
        "outputId": "5134f0b4-0f07-49b5-ced4-aad5bb37c3a1"
      },
      "outputs": [
        {
          "output_type": "stream",
          "name": "stdout",
          "text": [
            "Cloning into 'examples'...\n",
            "remote: Enumerating objects: 4036, done.\u001b[K\n",
            "remote: Counting objects: 100% (239/239), done.\u001b[K\n",
            "remote: Compressing objects: 100% (171/171), done.\u001b[K\n",
            "remote: Total 4036 (delta 94), reused 174 (delta 58), pack-reused 3797\u001b[K\n",
            "Receiving objects: 100% (4036/4036), 41.19 MiB | 16.98 MiB/s, done.\n",
            "Resolving deltas: 100% (1983/1983), done.\n"
          ]
        }
      ],
      "source": [
        "!git clone https://github.com/pytorch/examples.git\n"
      ]
    },
    {
      "cell_type": "code",
      "source": [
        "#os モジュールの設定\n",
        "import os\n",
        "path = '/content/examples/mnist'\n",
        "\n",
        "#作業ディレクトリをpathに移動する\n",
        "os.chdir(path)\n",
        "\n",
        "#作業ディレクトリ直下のファイルを確認（main.py  README.md  requirements.txtの3つが表示されればOK）\n",
        "!ls\n"
      ],
      "metadata": {
        "colab": {
          "base_uri": "https://localhost:8080/"
        },
        "id": "v6K7gJHPyxv5",
        "outputId": "2192a8f2-980c-478b-a809-a1bccf97c6d7"
      },
      "execution_count": 2,
      "outputs": [
        {
          "output_type": "stream",
          "name": "stdout",
          "text": [
            "main.py  README.md  requirements.txt\n"
          ]
        }
      ]
    },
    {
      "cell_type": "markdown",
      "source": [
        "https://magazine.techacademy.jp/magazine/47498#1\n",
        "osモジュールのコマンド一覧\n"
      ],
      "metadata": {
        "id": "yG1g3sLu1C8j"
      }
    }
  ]
}